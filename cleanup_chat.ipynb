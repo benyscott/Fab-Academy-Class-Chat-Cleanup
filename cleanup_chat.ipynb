{
 "cells": [
  {
   "cell_type": "code",
   "execution_count": 13,
   "metadata": {},
   "outputs": [],
   "source": [
    "# importing regular expression library\n",
    "import re"
   ]
  },
  {
   "cell_type": "code",
   "execution_count": 14,
   "metadata": {},
   "outputs": [],
   "source": [
    "# opening the chat file\n",
    "chat = open(\"meeting_saved_chat.txt\")"
   ]
  },
  {
   "cell_type": "code",
   "execution_count": 15,
   "metadata": {},
   "outputs": [],
   "source": [
    "# creating a list to put all the messages in\n",
    "messages = []\n",
    "\n",
    "# going through the chat line by line\n",
    "for newline in chat:\n",
    "    # if the line contains a timestamp append it to the messages list\n",
    "    if re.search('[0-2][0-9]:[0-6][0-9]:[0-9][0-9]', newline):\n",
    "        messages.append(newline)\n",
    "        \n",
    "    # if it DOESN'T have a timestamp, then it's part of the previous message, so append it to the last item of the list\n",
    "    else:\n",
    "        messages[-1] += newline\n",
    "        # print(messages[-1])\n",
    "        "
   ]
  },
  {
   "cell_type": "code",
   "execution_count": 16,
   "metadata": {},
   "outputs": [],
   "source": [
    "# print(messages)"
   ]
  },
  {
   "cell_type": "code",
   "execution_count": 17,
   "metadata": {},
   "outputs": [],
   "source": [
    "# create a list for all the messages\n",
    "chat_list = []\n",
    "\n",
    "# looping in the messages list\n",
    "for message in messages:\n",
    "    # grabbing it's values\n",
    "    date = message.split(\"\\t \")[0]\n",
    "    sender = message.split(\"\\t \")[1].split(\" : \")[0][5:]\n",
    "    text = message.split(\"\\t \")[1].split(\" : \")[1]\n",
    "    \n",
    "    # creating a dictionary to then add to the chat_dict and print it\n",
    "    dict = { \"time\": date, \"from\": sender, \"message\": text }\n",
    "    chat_list.append(dict)\n",
    "    \n",
    "    #print(dict)"
   ]
  },
  {
   "cell_type": "code",
   "execution_count": 18,
   "metadata": {},
   "outputs": [],
   "source": [
    "#print(chat_list)"
   ]
  },
  {
   "cell_type": "code",
   "execution_count": 19,
   "metadata": {},
   "outputs": [],
   "source": [
    "import dominate\n",
    "from dominate.tags import *\n",
    "from dominate.util import raw\n",
    "\n",
    "from datetime import date\n",
    "\n",
    "today = date.today()\n",
    "\n",
    "doc = dominate.document(title='Class chat of ' + today.strftime(\"%d/%m/%Y\"))\n",
    "\n",
    "with doc.head:\n",
    "    link(rel='stylesheet', href='style.css')\n",
    "    script(type='text/javascript', src='script.js')\n",
    "\n",
    "with doc:\n",
    "    with div(id='content'):\n",
    "        for msg in chat_list:\n",
    "            s\n",
    "            with div():\n",
    "                attr(cls=\"chat_msg\")\n",
    "                h4(msg[\"from\"])\n",
    "                raw('<blockquote>' + str(msg[\"message\"]) + '</blockquote>')\n",
    "                h6(msg[\"time\"])\n",
    "\n",
    "#print(doc)"
   ]
  },
  {
   "cell_type": "code",
   "execution_count": 12,
   "metadata": {},
   "outputs": [],
   "source": [
    "# Saves the document in an HTML file\n",
    "html_file = open(\"chat-\" + str(today) + \".html\",\"w\")\n",
    "html_file.write(str(doc))\n",
    "html_file.close()"
   ]
  },
  {
   "cell_type": "code",
   "execution_count": null,
   "metadata": {},
   "outputs": [],
   "source": []
  }
 ],
 "metadata": {
  "kernelspec": {
   "display_name": "Python 3",
   "language": "python",
   "name": "python3"
  },
  "language_info": {
   "codemirror_mode": {
    "name": "ipython",
    "version": 3
   },
   "file_extension": ".py",
   "mimetype": "text/x-python",
   "name": "python",
   "nbconvert_exporter": "python",
   "pygments_lexer": "ipython3",
   "version": "3.7.6"
  }
 },
 "nbformat": 4,
 "nbformat_minor": 4
}
